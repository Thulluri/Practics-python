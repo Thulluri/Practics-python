{
 "cells": [
  {
   "cell_type": "markdown",
   "id": "8561cd14",
   "metadata": {},
   "source": [
    "# Q1: A"
   ]
  },
  {
   "cell_type": "code",
   "execution_count": 1,
   "id": "97e60783",
   "metadata": {},
   "outputs": [],
   "source": [
    "def multiplicationtable(num):\n",
    "    for i in range(1,11):\n",
    "        print(num,'x',i,'=',num*i)"
   ]
  },
  {
   "cell_type": "code",
   "execution_count": 2,
   "id": "6a0d845b",
   "metadata": {},
   "outputs": [],
   "source": [
    "multiplicationtable(12)"
   ]
  },
  {
   "cell_type": "markdown",
   "id": "b6352319",
   "metadata": {},
   "source": [
    "# Q2:A"
   ]
  },
  {
   "cell_type": "code",
   "execution_count": null,
   "id": "b29b2e84",
   "metadata": {},
   "outputs": [],
   "source": [
    "import pdb\n",
    "def is_prime(n):\n",
    "   for i in range(2, n):\n",
    "    pdb.set_trace()\n",
    "         \n",
    "    if n % i == 0:\n",
    "         \n",
    "         return False\n",
    "   return True\n",
    "\n"
   ]
  },
  {
   "cell_type": "code",
   "execution_count": null,
   "id": "6e35ceb1",
   "metadata": {},
   "outputs": [],
   "source": [
    "def generate_twins(start, end):\n",
    "   for i in range(start, end):\n",
    "    print(i)\n",
    "   # pdb.set_trace()\n",
    "    j = i + 2\n",
    "    if(is_prime(i) and is_prime(j)):\n",
    "         print(\"{:d} and {:d}\".format(i, j))\n",
    "\n",
    "generate_twins(2, 100)"
   ]
  },
  {
   "cell_type": "code",
   "execution_count": 5,
   "id": "ee9f774d",
   "metadata": {},
   "outputs": [],
   "source": [
    "for Number in range (1, 101):\n",
    "    count = 0\n",
    "    for i in range(2, (Number//2 + 1)):\n",
    "        if(Number % i == 0):\n",
    "            count = count + 1\n",
    "            break\n",
    "\n",
    "    if (count == 0 and Number != 1):\n",
    "        print(\" %d\" %Number, end = '  ')"
   ]
  },
  {
   "cell_type": "markdown",
   "id": "4948f5ba",
   "metadata": {},
   "source": [
    "# Q3:A"
   ]
  },
  {
   "cell_type": "code",
   "execution_count": null,
   "id": "4b6f53a1",
   "metadata": {},
   "outputs": [],
   "source": [
    "Number = int(input(\" Please Enter any Number: \"))\n",
    "\n",
    "for i in range(2, Number + 1):\n",
    "    if(Number % i == 0):\n",
    "        isprime = 1\n",
    "        for j in range(2, (i //2 + 1)):\n",
    "            if(i % j == 0):\n",
    "                isprime = 0\n",
    "                break\n",
    "            \n",
    "        if (isprime == 1):\n",
    "            print(\" %d is a Prime Factor of a Given Number %d\" %(i, Number))"
   ]
  },
  {
   "cell_type": "markdown",
   "id": "5c420843",
   "metadata": {},
   "source": [
    "# Q4:A"
   ]
  },
  {
   "cell_type": "code",
   "execution_count": null,
   "id": "6e44f3a4",
   "metadata": {},
   "outputs": [],
   "source": [
    "from itertools import permutations\n",
    "\n",
    "seq = permutations(['a','b','c'])\n",
    "\n",
    "for p in list(seq):\n",
    "   print(p)"
   ]
  },
  {
   "cell_type": "code",
   "execution_count": null,
   "id": "fd9a3ced",
   "metadata": {},
   "outputs": [],
   "source": [
    "from itertools import combinations\n",
    "seq = combinations([2,5,8],2)\n",
    "for p in list(seq):\n",
    "    print(p)"
   ]
  },
  {
   "cell_type": "markdown",
   "id": "a5f6040e",
   "metadata": {},
   "source": [
    "# Q5:A"
   ]
  },
  {
   "cell_type": "code",
   "execution_count": null,
   "id": "1709d812",
   "metadata": {},
   "outputs": [],
   "source": [
    "def decimalToBinary(ip_val):\n",
    "    if ip_val >= 1:\n",
    "   \n",
    "        decimalToBinary(ip_val // 2)\n",
    "    \n",
    "   \n",
    "    print(ip_val % 2, end = '')\n",
    " \n"
   ]
  },
  {
   "cell_type": "code",
   "execution_count": null,
   "id": "02745cbc",
   "metadata": {},
   "outputs": [],
   "source": [
    "ip_val = 24\n",
    "decimalToBinary(ip_val)"
   ]
  },
  {
   "cell_type": "markdown",
   "id": "25ec6c97",
   "metadata": {},
   "source": [
    "# Q6:A"
   ]
  },
  {
   "cell_type": "code",
   "execution_count": null,
   "id": "4d581cb9",
   "metadata": {},
   "outputs": [],
   "source": [
    "def cubsum(n):\n",
    "    sum = 0\n",
    "    for i in range(1,n+1):\n",
    "        sum += i*i*i\n",
    "    return sum    "
   ]
  },
  {
   "cell_type": "code",
   "execution_count": null,
   "id": "7c73e332",
   "metadata": {},
   "outputs": [],
   "source": [
    "print(cubsum(3))"
   ]
  },
  {
   "cell_type": "code",
   "execution_count": null,
   "id": "2fd20f26",
   "metadata": {},
   "outputs": [],
   "source": [
    "num = 1634\n",
    "\n",
    "\n",
    "order = len(str(num))\n",
    "\n",
    "sum = 0\n",
    "\n",
    "\n",
    "temp = num\n",
    "while temp > 0:\n",
    "   digit = temp % 10\n",
    "   sum += digit ** order\n",
    "   temp //= 10\n",
    "\n",
    "\n",
    "if num == sum:\n",
    "   print(num,\"is an Armstrong number\")\n",
    "else:\n",
    "   print(num,\"is not an Armstrong number\")"
   ]
  },
  {
   "cell_type": "markdown",
   "id": "6a025646",
   "metadata": {},
   "source": [
    "# Q7:A"
   ]
  },
  {
   "cell_type": "code",
   "execution_count": null,
   "id": "22d747ad",
   "metadata": {},
   "outputs": [],
   "source": [
    "def getProduct(n):\n",
    " \n",
    "    product = 1\n",
    " \n",
    "    while (n != 0):\n",
    "        product = product * (n % 10)\n",
    "        n = n // 10\n",
    " \n",
    "    return product\n",
    " "
   ]
  },
  {
   "cell_type": "code",
   "execution_count": null,
   "id": "cbc82609",
   "metadata": {},
   "outputs": [],
   "source": [
    "n = 4513\n",
    "print(getProduct(n))"
   ]
  },
  {
   "cell_type": "markdown",
   "id": "ce7d08f3",
   "metadata": {},
   "source": [
    "# Q8:A"
   ]
  },
  {
   "cell_type": "code",
   "execution_count": null,
   "id": "c56c2cdc",
   "metadata": {},
   "outputs": [],
   "source": [
    "def mdr_mp(num):\n",
    "    \n",
    "    product = 1\n",
    "    mdr = num\n",
    "    count = 0\n",
    "\n",
    "    \n",
    "    while mdr > 9:\n",
    "        while num > 0: \n",
    "            \n",
    "            num, number = divmod(num, 10)\n",
    "            product *= number \n",
    "            count += 1\n",
    "        mdr = product\n",
    "        num = product\n",
    "        product = 1 \n",
    "    return [mdr, count] "
   ]
  },
  {
   "cell_type": "code",
   "execution_count": null,
   "id": "16614dd9",
   "metadata": {},
   "outputs": [],
   "source": [
    "num = 86\n",
    "   \n",
    "print(\"Number: (MDR, MP)\")\n",
    "list1 = mdr_mp(num)\n",
    "print(num, \": \", list1)"
   ]
  },
  {
   "cell_type": "markdown",
   "id": "b2541a47",
   "metadata": {},
   "source": [
    "# Q9:A"
   ]
  },
  {
   "cell_type": "code",
   "execution_count": null,
   "id": "9f6ff4ac",
   "metadata": {},
   "outputs": [],
   "source": [
    "import math \n",
    "      \n",
    "\n",
    "def divSum(num) : \n",
    "    result = 0\n",
    "    i = 2\n",
    "    while i<= (math.sqrt(num)) :\n",
    "        if (num % i == 0) :\n",
    "            if (i == (num / i)) : \n",
    "                result = result + i; \n",
    "            else : \n",
    "                result = result +  (i + num/i); \n",
    "        i = i + 1\n",
    "    return (result + 1); \n",
    "   "
   ]
  },
  {
   "cell_type": "code",
   "execution_count": null,
   "id": "304285a8",
   "metadata": {},
   "outputs": [],
   "source": [
    "num = 36\n",
    "print (divSum(num)) "
   ]
  },
  {
   "cell_type": "markdown",
   "id": "c3f7e449",
   "metadata": {},
   "source": [
    "# Q10:A"
   ]
  },
  {
   "cell_type": "code",
   "execution_count": null,
   "id": "31eacf90",
   "metadata": {},
   "outputs": [],
   "source": [
    "import math \n",
    "      \n",
    "\n",
    "def divSum(num) : \n",
    "    result = 0\n",
    "    i = 2\n",
    "    while i<= (math.sqrt(num)) :\n",
    "        if (num % i == 0) :\n",
    "            if (i == (num / i)) : \n",
    "                result = result + i; \n",
    "            else : \n",
    "                result = result +  (i + num/i); \n",
    "        i = i + 1\n",
    "    return (result + 1); \n",
    "   "
   ]
  },
  {
   "cell_type": "code",
   "execution_count": null,
   "id": "f1fcd8e4",
   "metadata": {},
   "outputs": [],
   "source": [
    "num = 28\n",
    "print (divSum((num))) "
   ]
  },
  {
   "cell_type": "markdown",
   "id": "da2e4704",
   "metadata": {},
   "source": [
    "# Q11:A"
   ]
  },
  {
   "cell_type": "code",
   "execution_count": null,
   "id": "55c06812",
   "metadata": {},
   "outputs": [],
   "source": []
  },
  {
   "cell_type": "code",
   "execution_count": null,
   "id": "603d0c85",
   "metadata": {},
   "outputs": [],
   "source": [
    "x=int(input('Enter number 1: '))\n",
    "y=int(input('Enter number 2: '))\n",
    "sum1=0\n",
    "sum2=0\n",
    "for i in range(1,x):\n",
    "    if x%i==0:\n",
    "        sum1+=i\n",
    "for j in range(1,y):\n",
    "    if y%j==0:\n",
    "        sum2+=j\n",
    "if(sum1==y and sum2==x):\n",
    "    print('Amicable!')\n",
    "else:\n",
    "    print('Not Amicable!')"
   ]
  },
  {
   "cell_type": "markdown",
   "id": "b51764db",
   "metadata": {},
   "source": [
    "# Q12:A"
   ]
  },
  {
   "cell_type": "code",
   "execution_count": null,
   "id": "56c7e588",
   "metadata": {},
   "outputs": [],
   "source": [
    "def odd(x):\n",
    "    return x % 2 == 1\n",
    " \n",
    "a = [2, 5, 7, 8, 10, 13, 16]\n",
    " \n",
    "result = filter(odd, a)\n",
    "print('Original List :', a)\n",
    "print('Filtered List :', list(result))"
   ]
  },
  {
   "cell_type": "code",
   "execution_count": null,
   "id": "e3a3f5fb",
   "metadata": {},
   "outputs": [],
   "source": [
    "def oddnumbers(numbers):\n",
    "    for num in numbers:\n",
    "        if num%2 != 0:\n",
    "            print(num)"
   ]
  },
  {
   "cell_type": "code",
   "execution_count": null,
   "id": "d789e236",
   "metadata": {},
   "outputs": [],
   "source": [
    "numbers = [2,8,9,6,7,4,5]\n",
    "oddnumbers(numbers)"
   ]
  },
  {
   "cell_type": "markdown",
   "id": "5e7cd298",
   "metadata": {},
   "source": [
    "# Q13:A"
   ]
  },
  {
   "cell_type": "code",
   "execution_count": null,
   "id": "cef40873",
   "metadata": {},
   "outputs": [],
   "source": [
    "li = [1,2,3,4,5,6,7,8,9,10]\n",
    "squaredNumbers = map(lambda x: x**3, li) \n",
    "print(list(squaredNumbers))   "
   ]
  },
  {
   "cell_type": "markdown",
   "id": "4ceb4c34",
   "metadata": {},
   "source": [
    "# Q14:A"
   ]
  },
  {
   "cell_type": "code",
   "execution_count": null,
   "id": "a52c4fe5",
   "metadata": {},
   "outputs": [],
   "source": [
    "li = [1,2,3,4,5,6,7,8,9,10]\n",
    "squaredNumbers = map(lambda x: x**3, filter(lambda x:x%2 == 0, li)) \n",
    "print(list(squaredNumbers))   "
   ]
  }
 ],
 "metadata": {
  "kernelspec": {
   "display_name": "Python 3",
   "language": "python",
   "name": "python3"
  },
  "language_info": {
   "codemirror_mode": {
    "name": "ipython",
    "version": 3
   },
   "file_extension": ".py",
   "mimetype": "text/x-python",
   "name": "python",
   "nbconvert_exporter": "python",
   "pygments_lexer": "ipython3",
   "version": "3.8.8"
  }
 },
 "nbformat": 4,
 "nbformat_minor": 5
}
