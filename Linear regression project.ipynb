{
 "cells": [
  {
   "cell_type": "markdown",
   "id": "9faab996",
   "metadata": {},
   "source": [
    "# Project overview\n",
    "In this project, I build a Simple Linear Regression model to study the linear relationship between Sales and Advertising dataset for a dietary weight control product.\n"
   ]
  },
  {
   "cell_type": "markdown",
   "id": "deaa3fa3",
   "metadata": {},
   "source": [
    "# Linear Regression\n",
    "Linear Regression is a statistical technique which is used to find the linear relationship between dependent and one or more independent variables. This technique is applicable for Supervised learning Regression problems where we try to predict a continuous variable."
   ]
  },
  {
   "cell_type": "markdown",
   "id": "776e0fb6",
   "metadata": {},
   "source": [
    "# Python libraries\n",
    "\n",
    "• Numpy – It provides a fast numerical array structure and operating functions.\n",
    "\n",
    "• pandas – It provides tools for data storage, manipulation and analysis tasks.\n",
    "\n",
    "• Scikit-Learn – The required machine learning library in Python.\n",
    "\n",
    "• Matplotlib – It is the basic plotting library in Python. It provides tools for making plots."
   ]
  },
  {
   "cell_type": "code",
   "execution_count": 55,
   "id": "b253ac6b",
   "metadata": {},
   "outputs": [],
   "source": [
    "import numpy as np\n",
    "import pandas as pd\n",
    "import matplotlib.pyplot as plt\n",
    "from sklearn.model_selection import train_test_split\n",
    "from sklearn.linear_model import LinearRegression\n",
    "from sklearn.metrics import mean_squared_error\n",
    "from sklearn.metrics import r2_score\n"
   ]
  },
  {
   "cell_type": "code",
   "execution_count": 10,
   "id": "5f4a7389",
   "metadata": {},
   "outputs": [],
   "source": [
    "data = pd.read_csv(r\"C:\\Users\\ASHOK\\Documents\\regression model.csv\")\n"
   ]
  },
  {
   "cell_type": "code",
   "execution_count": 11,
   "id": "bcc95130",
   "metadata": {},
   "outputs": [
    {
     "name": "stdout",
     "output_type": "stream",
     "text": [
      "(36, 2)\n"
     ]
    }
   ],
   "source": [
    "# veiw the dimensions of data\n",
    "print(data.shape)"
   ]
  },
  {
   "cell_type": "code",
   "execution_count": 12,
   "id": "a6ecd6cc",
   "metadata": {},
   "outputs": [
    {
     "name": "stdout",
     "output_type": "stream",
     "text": [
      "   Sales  Advertising\n",
      "0   12.0           15\n",
      "1   20.5           18\n",
      "2   21.0           18\n",
      "3   15.5           27\n",
      "4   15.3           21\n"
     ]
    }
   ],
   "source": [
    "#veiw top 5 raws\n",
    "print(data.head())"
   ]
  },
  {
   "cell_type": "code",
   "execution_count": 14,
   "id": "4ef24122",
   "metadata": {},
   "outputs": [
    {
     "name": "stdout",
     "output_type": "stream",
     "text": [
      "<class 'pandas.core.frame.DataFrame'>\n",
      "RangeIndex: 36 entries, 0 to 35\n",
      "Data columns (total 2 columns):\n",
      " #   Column       Non-Null Count  Dtype  \n",
      "---  ------       --------------  -----  \n",
      " 0   Sales        36 non-null     float64\n",
      " 1   Advertising  36 non-null     int64  \n",
      "dtypes: float64(1), int64(1)\n",
      "memory usage: 704.0 bytes\n",
      "None\n"
     ]
    }
   ],
   "source": [
    "#veiw data summary\n",
    "print(data.info())"
   ]
  },
  {
   "cell_type": "code",
   "execution_count": 16,
   "id": "4c78d6b9",
   "metadata": {},
   "outputs": [
    {
     "name": "stdout",
     "output_type": "stream",
     "text": [
      "           Sales  Advertising\n",
      "count  36.000000    36.000000\n",
      "mean   24.255556    28.583333\n",
      "std     6.185118    18.742427\n",
      "min    12.000000     1.000000\n",
      "25%    20.300000    16.500000\n",
      "50%    24.250000    23.000000\n",
      "75%    28.600000    41.000000\n",
      "max    36.500000    65.000000\n"
     ]
    }
   ],
   "source": [
    "#veiw descriptive statistics\n",
    "print(data.describe())"
   ]
  },
  {
   "cell_type": "markdown",
   "id": "8160ca8a",
   "metadata": {},
   "source": [
    "# Independent variables Vs Dependent variables\n",
    "\n",
    "Independent variables is called input variables.\n",
    "\n",
    "Dependent variables is called output variables.\n",
    "\n",
    "\n",
    "\n"
   ]
  },
  {
   "cell_type": "code",
   "execution_count": 19,
   "id": "d41381c2",
   "metadata": {},
   "outputs": [],
   "source": [
    "#declear feature variables and target variables.\n",
    "\n",
    "X = data[\"Sales\"].values\n",
    "y = data[\"Advertising\"].values"
   ]
  },
  {
   "cell_type": "markdown",
   "id": "b4b58f3d",
   "metadata": {},
   "source": [
    "# Visual Exploratory Data Analysis"
   ]
  },
  {
   "cell_type": "code",
   "execution_count": 22,
   "id": "158a40ef",
   "metadata": {},
   "outputs": [
    {
     "data": {
      "image/png": "[encoded data removed]",
      "text/plain": [
       "<Figure size 432x288 with 1 Axes>"
      ]
     },
     "metadata": {
      "needs_background": "light"
     },
     "output_type": "display_data"
    }
   ],
   "source": [
    "#plot scatter plot between X and y.\n",
    "plt.scatter(X, y, color = 'blue', label='Scatter Plot')\n",
    "plt.title('Relationship between Sales and Advertising')\n",
    "plt.xlabel('Sales')\n",
    "plt.ylabel('Advertising')\n",
    "plt.legend(loc=4)\n",
    "plt.show()\n"
   ]
  },
  {
   "cell_type": "markdown",
   "id": "4d5a953f",
   "metadata": {},
   "source": [
    "# Checking dimensions X and y"
   ]
  },
  {
   "cell_type": "code",
   "execution_count": 24,
   "id": "40b8563d",
   "metadata": {},
   "outputs": [
    {
     "name": "stdout",
     "output_type": "stream",
     "text": [
      "(36,)\n",
      "(36,)\n"
     ]
    }
   ],
   "source": [
    "print(X.shape)\n",
    "print(y.shape)"
   ]
  },
  {
   "cell_type": "code",
   "execution_count": 25,
   "id": "907bfc21",
   "metadata": {},
   "outputs": [],
   "source": [
    "# Reshape X and y\n",
    "\n",
    "X = X.reshape(-1,1)\n",
    "y = y.reshape(-1,1)"
   ]
  },
  {
   "cell_type": "code",
   "execution_count": 26,
   "id": "eca62613",
   "metadata": {},
   "outputs": [
    {
     "name": "stdout",
     "output_type": "stream",
     "text": [
      "(36, 1)\n",
      "(36, 1)\n"
     ]
    }
   ],
   "source": [
    "print(X.shape)\n",
    "print(y.shape)"
   ]
  },
  {
   "cell_type": "markdown",
   "id": "6fdf742e",
   "metadata": {},
   "source": [
    "# Train_test_split"
   ]
  },
  {
   "cell_type": "code",
   "execution_count": 29,
   "id": "92f66bf1",
   "metadata": {},
   "outputs": [],
   "source": [
    "X_train, X_test, y_train, y_test = train_test_split(X,y, test_size = 0.33, random_state = 45) "
   ]
  },
  {
   "cell_type": "code",
   "execution_count": 32,
   "id": "6e59207d",
   "metadata": {},
   "outputs": [
    {
     "name": "stdout",
     "output_type": "stream",
     "text": [
      "(24, 1)\n",
      "(24, 1)\n",
      "(12, 1)\n",
      "(12, 1)\n"
     ]
    }
   ],
   "source": [
    "print(X_train.shape)\n",
    "print(y_train.shape)\n",
    "print(X_test.shape)\n",
    "print(y_test.shape)"
   ]
  },
  {
   "cell_type": "markdown",
   "id": "401b3684",
   "metadata": {},
   "source": [
    "# Machanics of the models"
   ]
  },
  {
   "cell_type": "code",
   "execution_count": 33,
   "id": "904c0329",
   "metadata": {},
   "outputs": [
    {
     "data": {
      "text/plain": [
       "LinearRegression()"
      ]
     },
     "execution_count": 33,
     "metadata": {},
     "output_type": "execute_result"
    }
   ],
   "source": [
    "lm = LinearRegression()\n",
    "lm.fit(X_train, y_train)"
   ]
  },
  {
   "cell_type": "code",
   "execution_count": 59,
   "id": "258c5e85",
   "metadata": {},
   "outputs": [],
   "source": [
    "#predict on the test and train data\n",
    "y_test_pred = lm.predict(X_test)\n",
    "y_train_pred = lm.predict(X_train)\n"
   ]
  },
  {
   "cell_type": "markdown",
   "id": "2c632fce",
   "metadata": {},
   "source": [
    "# Model slope and intercept term\n",
    "\n",
    "The estimated model slope and intercept values are 1.85843361 and -18.40807945."
   ]
  },
  {
   "cell_type": "code",
   "execution_count": 41,
   "id": "2cc14419",
   "metadata": {},
   "outputs": [
    {
     "name": "stdout",
     "output_type": "stream",
     "text": [
      "Estimated model solp: [[1.85843361]]\n",
      "Estimated model intercept: [-18.40807945]\n"
     ]
    }
   ],
   "source": [
    "# compute model solp and intercept\n",
    "\n",
    "a = lm.coef_\n",
    "b = lm.intercept_\n",
    "print(\"Estimated model solp:\",a)\n",
    "print(\"Estimated model intercept:\",b)"
   ]
  },
  {
   "cell_type": "code",
   "execution_count": 42,
   "id": "5ce0ef30",
   "metadata": {},
   "outputs": [],
   "source": [
    "# So, our fitted regression line is \n",
    "\n",
    "# y = 1.85843361 * x - 18.40807945. \n",
    "\n",
    "# That is our linear model."
   ]
  },
  {
   "cell_type": "code",
   "execution_count": 44,
   "id": "ef23e292",
   "metadata": {},
   "outputs": [
    {
     "data": {
      "text/plain": [
       "array([[ 3.89312392],\n",
       "       [19.68980963],\n",
       "       [20.61902644],\n",
       "       [10.39764157],\n",
       "       [10.02595484]])"
      ]
     },
     "execution_count": 44,
     "metadata": {},
     "output_type": "execute_result"
    }
   ],
   "source": [
    "lm.predict(X)[0:5]\n",
    "\n",
    "# Predicting Advertising values on first five Sales values."
   ]
  },
  {
   "cell_type": "markdown",
   "id": "b3c1ca85",
   "metadata": {},
   "source": [
    "# Regression metrics for model performance"
   ]
  },
  {
   "cell_type": "markdown",
   "id": "5fb0a209",
   "metadata": {},
   "source": [
    "# Root-Mean-Square Error (RMSE) \n",
    "\n",
    "Lower values of RMSE indicate better fit.\n"
   ]
  },
  {
   "cell_type": "code",
   "execution_count": 47,
   "id": "4d269047",
   "metadata": {},
   "outputs": [
    {
     "name": "stdout",
     "output_type": "stream",
     "text": [
      "RMSE value: 12.6404\n"
     ]
    }
   ],
   "source": [
    "# Calculate and print Root Mean Square Error(RMSE)\n",
    "mse = mean_squared_error(y_test, y_test_pred)\n",
    "rmse = np.sqrt(mse)\n",
    "print(\"RMSE value: {:.4f}\".format(rmse))"
   ]
  },
  {
   "cell_type": "code",
   "execution_count": 60,
   "id": "09dedde8",
   "metadata": {},
   "outputs": [
    {
     "name": "stdout",
     "output_type": "stream",
     "text": [
      "RMSE value: 15.3181\n"
     ]
    }
   ],
   "source": [
    "mse = mean_squared_error(y_train, y_train_pred)\n",
    "rmse = np.sqrt(mse)\n",
    "print(\"RMSE value: {:.4f}\".format(rmse))"
   ]
  },
  {
   "cell_type": "markdown",
   "id": "99ebb0a8",
   "metadata": {},
   "source": [
    "# Mean Absolute Percentage Error(MAPE)"
   ]
  },
  {
   "cell_type": "code",
   "execution_count": 61,
   "id": "a7de4e80",
   "metadata": {},
   "outputs": [
    {
     "data": {
      "text/plain": [
       "1.147479895841062"
      ]
     },
     "execution_count": 61,
     "metadata": {},
     "output_type": "execute_result"
    }
   ],
   "source": [
    "from sklearn.metrics import mean_absolute_percentage_error\n",
    "mean_absolute_percentage_error(y_test, y_test_pred)"
   ]
  },
  {
   "cell_type": "code",
   "execution_count": 63,
   "id": "239b0ce3",
   "metadata": {},
   "outputs": [
    {
     "data": {
      "text/plain": [
       "1.0525472929303206"
      ]
     },
     "execution_count": 63,
     "metadata": {},
     "output_type": "execute_result"
    }
   ],
   "source": [
    "from sklearn.metrics import mean_absolute_percentage_error\n",
    "mean_absolute_percentage_error(y_train, y_train_pred)"
   ]
  },
  {
   "cell_type": "markdown",
   "id": "5f187356",
   "metadata": {},
   "source": [
    "# R2 Score\n",
    "R2 Score = Explained Variation/Total Variation\n",
    "\n",
    "In general, the higher the R2 Score value, the better the model fits the data. Usually, its value ranges from 0 to 1. So, we want its value to be as close to 1. Its value can become negative if our model is wrong."
   ]
  },
  {
   "cell_type": "code",
   "execution_count": 64,
   "id": "64de8afd",
   "metadata": {},
   "outputs": [
    {
     "name": "stdout",
     "output_type": "stream",
     "text": [
      "R2 Score value: 0.4085\n"
     ]
    }
   ],
   "source": [
    "# Calculate and print r2_score\n",
    "print (\"R2 Score value: {:.4f}\".format(r2_score(y_test, y_test_pred)))"
   ]
  },
  {
   "cell_type": "code",
   "execution_count": 65,
   "id": "5137259e",
   "metadata": {},
   "outputs": [
    {
     "name": "stdout",
     "output_type": "stream",
     "text": [
      "R2 Score value: 0.3369\n"
     ]
    }
   ],
   "source": [
    "# Calculate and print r2_score\n",
    "print (\"R2 Score value: {:.4f}\".format(r2_score(y_train, y_train_pred)))"
   ]
  },
  {
   "cell_type": "markdown",
   "id": "6b4977aa",
   "metadata": {},
   "source": [
    "# Interpretation and Conclusion\n",
    "The RMSE value has been found to be 12.6404. It means the standard deviation for our prediction is 12.6404. So, sometimes we expect the predictions to be off by more than 12.6404 and other times we expect less than 12.6404. So, the model is not good fit to the data.\n",
    "\n",
    "EX: In business decision ,the R2 score value is 0.7. It means if R2 score value >= 0.7, then the model is good enough to deploy on unseen data whereas if R2 score value < 0.7, then the model is not good enough to deploy. Our R2 score value has been found to be 0.4085. It means that this model explains 40.85% of the variance in our dependent variable. So, the R2 score value confirms that the model is not good enough to deploy because it does not provide good fit to the data."
   ]
  },
  {
   "cell_type": "code",
   "execution_count": 50,
   "id": "3101208f",
   "metadata": {},
   "outputs": [
    {
     "data": {
      "image/png": "[encoded data removed]",
      "text/plain": [
       "<Figure size 432x288 with 1 Axes>"
      ]
     },
     "metadata": {
      "needs_background": "light"
     },
     "output_type": "display_data"
    }
   ],
   "source": [
    "# Plot the Regression Line\n",
    "plt.scatter(X, y, color = 'blue', label='Scatter Plot')\n",
    "plt.plot(X_test, y_pred, color = 'black', linewidth=3, label = 'Regression Line')\n",
    "plt.title('Relationship between Sales and Advertising')\n",
    "plt.xlabel('Sales')\n",
    "plt.ylabel('Advertising')\n",
    "plt.legend(loc=4)\n",
    "plt.show()"
   ]
  },
  {
   "cell_type": "markdown",
   "id": "1046c2f2",
   "metadata": {},
   "source": [
    "# Residual analysis\n",
    "The difference between the observed value of the dependent variable (y) and the predicted value (ŷi) is called the residual and is denoted by e. The scatter-plot of these residuals is called residual plot."
   ]
  },
  {
   "cell_type": "code",
   "execution_count": 51,
   "id": "27cc3078",
   "metadata": {},
   "outputs": [
    {
     "data": {
      "image/png": "[encoded data removed]",
      "text/plain": [
       "<Figure size 432x288 with 1 Axes>"
      ]
     },
     "metadata": {
      "needs_background": "light"
     },
     "output_type": "display_data"
    }
   ],
   "source": [
    "plt.scatter(lm.predict(X_train), lm.predict(X_train) - y_train, color = 'red', label = 'Train data')\n",
    "plt.scatter(lm.predict(X_test), lm.predict(X_test) - y_test, color = 'blue', label = 'Test data')\n",
    "plt.hlines(xmin = 0, xmax = 50, y = 0, linewidth = 3)\n",
    "plt.title('Residual errors')\n",
    "plt.legend(loc = 4)\n",
    "plt.show()"
   ]
  },
  {
   "cell_type": "markdown",
   "id": "d45e30a7",
   "metadata": {},
   "source": [
    "# Checking for Overfitting and Underfitting\n",
    "\n",
    "I calculate training set score as 0.3369. Similarly, I calculate test set score as 0.4085. The training set score is very poor. So, the model does not learn the relationships from the training data. Thus, the model performs poorly on the training data. It is a clear sign of Underfitting. Hence, I finding that the linear regression model does not provide good fit to the data.\n",
    "\n",
    "Underfitting means our model performs poorly on the training data. It means the model does not capture the relationships between the training data. We should use more powerful models.\n"
   ]
  },
  {
   "cell_type": "code",
   "execution_count": 54,
   "id": "115fb609",
   "metadata": {},
   "outputs": [
    {
     "name": "stdout",
     "output_type": "stream",
     "text": [
      "Training set score: 0.3369\n",
      "Test set score: 0.4085\n"
     ]
    }
   ],
   "source": [
    "# Checking for Overfitting or Underfitting the data\n",
    "\n",
    "print(\"Training set score: {:.4f}\".format(lm.score(X_train,y_train)))\n",
    "\n",
    "print(\"Test set score: {:.4f}\".format(lm.score(X_test,y_test)))"
   ]
  },
  {
   "cell_type": "code",
   "execution_count": null,
   "id": "af4e3f66",
   "metadata": {},
   "outputs": [],
   "source": [
    "MAPE=mape(data_d,'abs_error','y_actu')\n",
    "print('the MAPE value is :', MAPE)"
   ]
  }
 ],
 "metadata": {
  "kernelspec": {
   "display_name": "Python 3",
   "language": "python",
   "name": "python3"
  },
  "language_info": {
   "codemirror_mode": {
    "name": "ipython",
    "version": 3
   },
   "file_extension": ".py",
   "mimetype": "text/x-python",
   "name": "python",
   "nbconvert_exporter": "python",
   "pygments_lexer": "ipython3",
   "version": "3.8.8"
  }
 },
 "nbformat": 4,
 "nbformat_minor": 5
}
