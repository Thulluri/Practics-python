{
 "cells": [
  {
   "cell_type": "markdown",
   "id": "fd2ecd5d",
   "metadata": {},
   "source": [
    "# <p style=\"font-size:36px;text-align:center\"> <b>Predict The Price Of Book</b> </p>"
   ]
  },
  {
   "cell_type": "markdown",
   "id": "659e2f98",
   "metadata": {},
   "source": [
    "<h6> Problem statement : </h6>\n",
    "<p> Classify the given price based on evidence from text-based Synopsis literature. </p>"
   ]
  },
  {
   "cell_type": "code",
   "execution_count": 310,
   "id": "2a0b3232",
   "metadata": {},
   "outputs": [],
   "source": [
    "import pandas as pd\n",
    "import matplotlib.pyplot as plt\n",
    "import seaborn as sns\n",
    "from collections import Counter"
   ]
  },
  {
   "cell_type": "markdown",
   "id": "e0aff4be",
   "metadata": {},
   "source": [
    "#### 1. Load dataset.CSV into pandas dataframe"
   ]
  },
  {
   "cell_type": "code",
   "execution_count": 311,
   "id": "5137e0ca",
   "metadata": {},
   "outputs": [],
   "source": [
    "data_train = pd.read_csv(r\"C:\\Users\\ASHOK\\Documents\\Data_Train.csv\")\n",
    "data_test = pd.read_csv(r\"C:\\Users\\ASHOK\\Documents\\Data_Test.csv\")"
   ]
  },
  {
   "cell_type": "markdown",
   "id": "4ca96275",
   "metadata": {},
   "source": [
    "#### 2. Check first five raws"
   ]
  },
  {
   "cell_type": "code",
   "execution_count": 312,
   "id": "a6981681",
   "metadata": {},
   "outputs": [
    {
     "data": {
      "text/html": [
       "<div>\n",
       "<style scoped>\n",
       "    .dataframe tbody tr th:only-of-type {\n",
       "        vertical-align: middle;\n",
       "    }\n",
       "\n",
       "    .dataframe tbody tr th {\n",
       "        vertical-align: top;\n",
       "    }\n",
       "\n",
       "    .dataframe thead th {\n",
       "        text-align: right;\n",
       "    }\n",
       "</style>\n",
       "<table border=\"1\" class=\"dataframe\">\n",
       "  <thead>\n",
       "    <tr style=\"text-align: right;\">\n",
       "      <th></th>\n",
       "      <th>Title</th>\n",
       "      <th>Author</th>\n",
       "      <th>Edition</th>\n",
       "      <th>Reviews</th>\n",
       "      <th>Ratings</th>\n",
       "      <th>Synopsis</th>\n",
       "      <th>Genre</th>\n",
       "      <th>BookCategory</th>\n",
       "      <th>Price</th>\n",
       "    </tr>\n",
       "  </thead>\n",
       "  <tbody>\n",
       "    <tr>\n",
       "      <th>0</th>\n",
       "      <td>The Prisoner's Gold (The Hunters 3)</td>\n",
       "      <td>Chris Kuzneski</td>\n",
       "      <td>Paperback,? 10 Mar 2016</td>\n",
       "      <td>4.0 out of 5 stars</td>\n",
       "      <td>8 customer reviews</td>\n",
       "      <td>THE HUNTERS return in their third brilliant no...</td>\n",
       "      <td>Action &amp; Adventure (Books)</td>\n",
       "      <td>Action &amp; Adventure</td>\n",
       "      <td>220.00</td>\n",
       "    </tr>\n",
       "    <tr>\n",
       "      <th>1</th>\n",
       "      <td>Guru Dutt: A Tragedy in Three Acts</td>\n",
       "      <td>Arun Khopkar</td>\n",
       "      <td>Paperback,? 7 Nov 2012</td>\n",
       "      <td>3.9 out of 5 stars</td>\n",
       "      <td>14 customer reviews</td>\n",
       "      <td>A layered portrait of a troubled genius for wh...</td>\n",
       "      <td>Cinema &amp; Broadcast (Books)</td>\n",
       "      <td>Biographies, Diaries &amp; True Accounts</td>\n",
       "      <td>202.93</td>\n",
       "    </tr>\n",
       "    <tr>\n",
       "      <th>2</th>\n",
       "      <td>Leviathan (Penguin Classics)</td>\n",
       "      <td>Thomas Hobbes</td>\n",
       "      <td>Paperback,? 25 Feb 1982</td>\n",
       "      <td>4.8 out of 5 stars</td>\n",
       "      <td>6 customer reviews</td>\n",
       "      <td>\"During the time men live without a common Pow...</td>\n",
       "      <td>International Relations</td>\n",
       "      <td>Humour</td>\n",
       "      <td>299.00</td>\n",
       "    </tr>\n",
       "  </tbody>\n",
       "</table>\n",
       "</div>"
      ],
      "text/plain": [
       "                                 Title          Author  \\\n",
       "0  The Prisoner's Gold (The Hunters 3)  Chris Kuzneski   \n",
       "1   Guru Dutt: A Tragedy in Three Acts    Arun Khopkar   \n",
       "2         Leviathan (Penguin Classics)   Thomas Hobbes   \n",
       "\n",
       "                   Edition             Reviews              Ratings  \\\n",
       "0  Paperback,? 10 Mar 2016  4.0 out of 5 stars   8 customer reviews   \n",
       "1   Paperback,? 7 Nov 2012  3.9 out of 5 stars  14 customer reviews   \n",
       "2  Paperback,? 25 Feb 1982  4.8 out of 5 stars   6 customer reviews   \n",
       "\n",
       "                                            Synopsis  \\\n",
       "0  THE HUNTERS return in their third brilliant no...   \n",
       "1  A layered portrait of a troubled genius for wh...   \n",
       "2  \"During the time men live without a common Pow...   \n",
       "\n",
       "                        Genre                          BookCategory   Price  \n",
       "0  Action & Adventure (Books)                    Action & Adventure  220.00  \n",
       "1  Cinema & Broadcast (Books)  Biographies, Diaries & True Accounts  202.93  \n",
       "2     International Relations                                Humour  299.00  "
      ]
     },
     "execution_count": 312,
     "metadata": {},
     "output_type": "execute_result"
    }
   ],
   "source": [
    "data_train.head(3)"
   ]
  },
  {
   "cell_type": "code",
   "execution_count": 313,
   "id": "93a80a91",
   "metadata": {},
   "outputs": [
    {
     "data": {
      "text/html": [
       "<div>\n",
       "<style scoped>\n",
       "    .dataframe tbody tr th:only-of-type {\n",
       "        vertical-align: middle;\n",
       "    }\n",
       "\n",
       "    .dataframe tbody tr th {\n",
       "        vertical-align: top;\n",
       "    }\n",
       "\n",
       "    .dataframe thead th {\n",
       "        text-align: right;\n",
       "    }\n",
       "</style>\n",
       "<table border=\"1\" class=\"dataframe\">\n",
       "  <thead>\n",
       "    <tr style=\"text-align: right;\">\n",
       "      <th></th>\n",
       "      <th>Title</th>\n",
       "      <th>Author</th>\n",
       "      <th>Edition</th>\n",
       "      <th>Reviews</th>\n",
       "      <th>Ratings</th>\n",
       "      <th>Synopsis</th>\n",
       "      <th>Genre</th>\n",
       "      <th>BookCategory</th>\n",
       "    </tr>\n",
       "  </thead>\n",
       "  <tbody>\n",
       "    <tr>\n",
       "      <th>0</th>\n",
       "      <td>The Complete Sherlock Holmes: 2 Boxes sets</td>\n",
       "      <td>Sir Arthur Conan Doyle</td>\n",
       "      <td>Mass Market Paperback,? 1 Oct 1986</td>\n",
       "      <td>4.4 out of 5 stars</td>\n",
       "      <td>960 customer reviews</td>\n",
       "      <td>A collection of entire body of work of the She...</td>\n",
       "      <td>Short Stories (Books)</td>\n",
       "      <td>Crime, Thriller &amp; Mystery</td>\n",
       "    </tr>\n",
       "    <tr>\n",
       "      <th>1</th>\n",
       "      <td>Learn Docker - Fundamentals of Docker 18.x: Ev...</td>\n",
       "      <td>Gabriel N. Schenker</td>\n",
       "      <td>Paperback,? Import, 26 Apr 2018</td>\n",
       "      <td>5.0 out of 5 stars</td>\n",
       "      <td>1 customer review</td>\n",
       "      <td>Enhance your software deployment workflow usin...</td>\n",
       "      <td>Operating Systems Textbooks</td>\n",
       "      <td>Computing, Internet &amp; Digital Media</td>\n",
       "    </tr>\n",
       "    <tr>\n",
       "      <th>2</th>\n",
       "      <td>Big Girl</td>\n",
       "      <td>Danielle Steel</td>\n",
       "      <td>Paperback,? 17 Mar 2011</td>\n",
       "      <td>5.0 out of 5 stars</td>\n",
       "      <td>4 customer reviews</td>\n",
       "      <td>'Watch out, world. Here I come!'\\nFor Victoria...</td>\n",
       "      <td>Romance (Books)</td>\n",
       "      <td>Romance</td>\n",
       "    </tr>\n",
       "  </tbody>\n",
       "</table>\n",
       "</div>"
      ],
      "text/plain": [
       "                                               Title                  Author  \\\n",
       "0         The Complete Sherlock Holmes: 2 Boxes sets  Sir Arthur Conan Doyle   \n",
       "1  Learn Docker - Fundamentals of Docker 18.x: Ev...     Gabriel N. Schenker   \n",
       "2                                           Big Girl          Danielle Steel   \n",
       "\n",
       "                              Edition             Reviews  \\\n",
       "0  Mass Market Paperback,? 1 Oct 1986  4.4 out of 5 stars   \n",
       "1     Paperback,? Import, 26 Apr 2018  5.0 out of 5 stars   \n",
       "2             Paperback,? 17 Mar 2011  5.0 out of 5 stars   \n",
       "\n",
       "                Ratings                                           Synopsis  \\\n",
       "0  960 customer reviews  A collection of entire body of work of the She...   \n",
       "1     1 customer review  Enhance your software deployment workflow usin...   \n",
       "2    4 customer reviews  'Watch out, world. Here I come!'\\nFor Victoria...   \n",
       "\n",
       "                         Genre                         BookCategory  \n",
       "0        Short Stories (Books)            Crime, Thriller & Mystery  \n",
       "1  Operating Systems Textbooks  Computing, Internet & Digital Media  \n",
       "2              Romance (Books)                              Romance  "
      ]
     },
     "execution_count": 313,
     "metadata": {},
     "output_type": "execute_result"
    }
   ],
   "source": [
    "data_test.head(3)"
   ]
  },
  {
   "cell_type": "markdown",
   "id": "26fb7198",
   "metadata": {},
   "source": [
    "#### 3. How many datapoints and features"
   ]
  },
  {
   "cell_type": "code",
   "execution_count": 314,
   "id": "a644c19d",
   "metadata": {},
   "outputs": [
    {
     "data": {
      "text/plain": [
       "(6237, 9)"
      ]
     },
     "execution_count": 314,
     "metadata": {},
     "output_type": "execute_result"
    }
   ],
   "source": [
    "data_train.shape"
   ]
  },
  {
   "cell_type": "code",
   "execution_count": 315,
   "id": "1c5ba871",
   "metadata": {},
   "outputs": [
    {
     "data": {
      "text/plain": [
       "(1560, 8)"
      ]
     },
     "execution_count": 315,
     "metadata": {},
     "output_type": "execute_result"
    }
   ],
   "source": [
    "data_test.shape"
   ]
  },
  {
   "cell_type": "markdown",
   "id": "122babdb",
   "metadata": {},
   "source": [
    "#### 4. What are the columns names"
   ]
  },
  {
   "cell_type": "code",
   "execution_count": 316,
   "id": "9acb4e70",
   "metadata": {},
   "outputs": [
    {
     "data": {
      "text/plain": [
       "Index(['Title', 'Author', 'Edition', 'Reviews', 'Ratings', 'Synopsis', 'Genre',\n",
       "       'BookCategory', 'Price'],\n",
       "      dtype='object')"
      ]
     },
     "execution_count": 316,
     "metadata": {},
     "output_type": "execute_result"
    }
   ],
   "source": [
    "data_train.columns"
   ]
  },
  {
   "cell_type": "code",
   "execution_count": 317,
   "id": "02a1bff8",
   "metadata": {},
   "outputs": [
    {
     "data": {
      "text/plain": [
       "Index(['Title', 'Author', 'Edition', 'Reviews', 'Ratings', 'Synopsis', 'Genre',\n",
       "       'BookCategory'],\n",
       "      dtype='object')"
      ]
     },
     "execution_count": 317,
     "metadata": {},
     "output_type": "execute_result"
    }
   ],
   "source": [
    "data_test.columns"
   ]
  },
  {
   "cell_type": "markdown",
   "id": "e4538dd6",
   "metadata": {},
   "source": [
    "#### 5. How many datapoints for each class are present"
   ]
  },
  {
   "cell_type": "code",
   "execution_count": 318,
   "id": "3106b463",
   "metadata": {},
   "outputs": [
    {
     "data": {
      "text/plain": [
       "299.00     108\n",
       "399.00      85\n",
       "449.00      59\n",
       "295.00      49\n",
       "319.00      48\n",
       "          ... \n",
       "1850.00      1\n",
       "1034.00      1\n",
       "2799.00      1\n",
       "1721.00      1\n",
       "1065.18      1\n",
       "Name: Price, Length: 1614, dtype: int64"
      ]
     },
     "execution_count": 318,
     "metadata": {},
     "output_type": "execute_result"
    }
   ],
   "source": [
    "data_train[\"Price\"].value_counts()"
   ]
  },
  {
   "cell_type": "code",
   "execution_count": 319,
   "id": "fc447bf2",
   "metadata": {},
   "outputs": [
    {
     "data": {
      "text/plain": [
       "<AxesSubplot:xlabel='Price', ylabel='Count'>"
      ]
     },
     "execution_count": 319,
     "metadata": {},
     "output_type": "execute_result"
    },
    {
     "data": {
      "image/png": "[encoded data removed]",
      "text/plain": [
       "<Figure size 1080x360 with 1 Axes>"
      ]
     },
     "metadata": {
      "needs_background": "light"
     },
     "output_type": "display_data"
    }
   ],
   "source": [
    "plt.figure(figsize = (15,5))\n",
    "sns.histplot(x = \"Price\", data = data )"
   ]
  },
  {
   "cell_type": "code",
   "execution_count": 320,
   "id": "35a8239c",
   "metadata": {},
   "outputs": [
    {
     "data": {
      "text/plain": [
       "<AxesSubplot:xlabel='Price'>"
      ]
     },
     "execution_count": 320,
     "metadata": {},
     "output_type": "execute_result"
    },
    {
     "data": {
      "image/png": "[encoded data removed]",
      "text/plain": [
       "<Figure size 720x360 with 1 Axes>"
      ]
     },
     "metadata": {
      "needs_background": "light"
     },
     "output_type": "display_data"
    }
   ],
   "source": [
    "plt.figure(figsize = (10,5))\n",
    "sns.boxplot(x = \"Price\", data = data)"
   ]
  },
  {
   "cell_type": "markdown",
   "id": "a9a46f3c",
   "metadata": {},
   "source": [
    "#### 6. View summary"
   ]
  },
  {
   "cell_type": "code",
   "execution_count": 321,
   "id": "d21e53a1",
   "metadata": {},
   "outputs": [
    {
     "name": "stdout",
     "output_type": "stream",
     "text": [
      "<class 'pandas.core.frame.DataFrame'>\n",
      "RangeIndex: 6237 entries, 0 to 6236\n",
      "Data columns (total 9 columns):\n",
      " #   Column        Non-Null Count  Dtype  \n",
      "---  ------        --------------  -----  \n",
      " 0   Title         6237 non-null   object \n",
      " 1   Author        6237 non-null   object \n",
      " 2   Edition       6237 non-null   object \n",
      " 3   Reviews       6237 non-null   object \n",
      " 4   Ratings       6237 non-null   object \n",
      " 5   Synopsis      6237 non-null   object \n",
      " 6   Genre         6237 non-null   object \n",
      " 7   BookCategory  6237 non-null   object \n",
      " 8   Price         6237 non-null   float64\n",
      "dtypes: float64(1), object(8)\n",
      "memory usage: 438.7+ KB\n"
     ]
    }
   ],
   "source": [
    "data_train.info()"
   ]
  },
  {
   "cell_type": "code",
   "execution_count": 322,
   "id": "d6bbf78f",
   "metadata": {},
   "outputs": [
    {
     "name": "stdout",
     "output_type": "stream",
     "text": [
      "<class 'pandas.core.frame.DataFrame'>\n",
      "RangeIndex: 1560 entries, 0 to 1559\n",
      "Data columns (total 8 columns):\n",
      " #   Column        Non-Null Count  Dtype \n",
      "---  ------        --------------  ----- \n",
      " 0   Title         1560 non-null   object\n",
      " 1   Author        1560 non-null   object\n",
      " 2   Edition       1560 non-null   object\n",
      " 3   Reviews       1560 non-null   object\n",
      " 4   Ratings       1560 non-null   object\n",
      " 5   Synopsis      1560 non-null   object\n",
      " 6   Genre         1560 non-null   object\n",
      " 7   BookCategory  1560 non-null   object\n",
      "dtypes: object(8)\n",
      "memory usage: 97.6+ KB\n"
     ]
    }
   ],
   "source": [
    "data_test.info()"
   ]
  },
  {
   "cell_type": "markdown",
   "id": "39e16460",
   "metadata": {},
   "source": [
    "#### 7. Check null values"
   ]
  },
  {
   "cell_type": "code",
   "execution_count": 323,
   "id": "0fa438b0",
   "metadata": {},
   "outputs": [
    {
     "data": {
      "text/plain": [
       "Title           False\n",
       "Author          False\n",
       "Edition         False\n",
       "Reviews         False\n",
       "Ratings         False\n",
       "Synopsis        False\n",
       "Genre           False\n",
       "BookCategory    False\n",
       "Price           False\n",
       "dtype: bool"
      ]
     },
     "execution_count": 323,
     "metadata": {},
     "output_type": "execute_result"
    }
   ],
   "source": [
    "data_train.isnull().any()"
   ]
  },
  {
   "cell_type": "code",
   "execution_count": 324,
   "id": "3b8c99be",
   "metadata": {},
   "outputs": [
    {
     "data": {
      "text/plain": [
       "Title           False\n",
       "Author          False\n",
       "Edition         False\n",
       "Reviews         False\n",
       "Ratings         False\n",
       "Synopsis        False\n",
       "Genre           False\n",
       "BookCategory    False\n",
       "dtype: bool"
      ]
     },
     "execution_count": 324,
     "metadata": {},
     "output_type": "execute_result"
    }
   ],
   "source": [
    "data_test.isnull().any()"
   ]
  },
  {
   "cell_type": "markdown",
   "id": "a5457aeb",
   "metadata": {},
   "source": [
    "#### 8. Name of the different uniques values"
   ]
  },
  {
   "cell_type": "code",
   "execution_count": 325,
   "id": "ac18198b",
   "metadata": {},
   "outputs": [
    {
     "data": {
      "text/plain": [
       "count                                                  6237\n",
       "unique                                                 5549\n",
       "top       A Tinkle Double Digest is two Tinkle Digests i...\n",
       "freq                                                      8\n",
       "Name: Synopsis, dtype: object"
      ]
     },
     "execution_count": 325,
     "metadata": {},
     "output_type": "execute_result"
    }
   ],
   "source": [
    "data_train[\"Synopsis\"].describe()"
   ]
  },
  {
   "cell_type": "code",
   "execution_count": 326,
   "id": "09e138ca",
   "metadata": {},
   "outputs": [
    {
     "data": {
      "text/plain": [
       "[('A Tinkle Double Digest is two Tinkle Digests in one volume. These include the best stories of Tinkle over the years.',\n",
       "  8),\n",
       " ('Calvin, cheeky, hyperactive and mischievous, and Hobbes, his cuddly toy tiger who, as far as Calvin is concerned is very much alive and kicking, are two of the most loveable and hilarious characters to grace the comic strip in years.',\n",
       "  5),\n",
       " ('Coloring allows a child to relax and be comfortable while creating a piece of art. Children can fill in the figures and shapes on the page any way they choose, coloring helps a child practice holding a writing tool the correct way and aids in developing those tiny muscles in their hands, fingers, and wrist. This is a fun book which will directly reflect to developing the skills of your child.',\n",
       "  4)]"
      ]
     },
     "execution_count": 326,
     "metadata": {},
     "output_type": "execute_result"
    }
   ],
   "source": [
    "price_count = Counter(list(data_train['Synopsis']))\n",
    "price_count.most_common(3)"
   ]
  },
  {
   "cell_type": "code",
   "execution_count": 327,
   "id": "72683913",
   "metadata": {},
   "outputs": [
    {
     "data": {
      "text/plain": [
       "count                                                  1560\n",
       "unique                                                 1519\n",
       "top       A Guardian Pick for 2019\\nThe People vs. Putin...\n",
       "freq                                                      3\n",
       "Name: Synopsis, dtype: object"
      ]
     },
     "execution_count": 327,
     "metadata": {},
     "output_type": "execute_result"
    }
   ],
   "source": [
    "data_test[\"Synopsis\"].describe()"
   ]
  },
  {
   "cell_type": "code",
   "execution_count": 328,
   "id": "b5b90383",
   "metadata": {},
   "outputs": [
    {
     "data": {
      "text/plain": [
       "[(\"A Guardian Pick for 2019\\nThe People vs. Putin.\\nThe People vs. the Mafia.\\nThe People vs. Wall Street.\\nFor eight years Preet Bharara prosecuted some of the most high-stakes crimes in the world. Billion-dollar frauds. Terrorist attacks. Russian espionage. These were the cases that gripped America - and he was the man making sure people answered.\\nIn Doing Justice Bharara lifts the lid on his time as America's prosecutor for justice, showing in intimate and explosive detail how the criminal justice system works from the inside. Spanning history, his own fabled cases and the actions of key players in the upper echelons of power, this is a book about what it means to make the right decisions at the toughest of moments, and about what the state of justice in America reveals about today.\",\n",
       "  3),\n",
       " (\"The end is approaching ... Can Jack West unravel the ancient secrets of the Five Greatest Warriors and save the world?\\nWith the end of the world fast approaching, Jack West Jnr must rebuild the final pieces of the fabled, ancient 'Machine' - the only thing that can prevent global catastrophe. But he is out of clues, out of leads ... until he is presented with an ancient text about five unnamed warriors, great historical figures who were all in some way connected to the mysterious Machine. And so Jack and his loyal team set out to discover their identities - and their secrets.\\nSoon Jack is on the trail of a legendary list of greats: from Moses to Genghis Khan and Napoleon, and finally to one most unlikely warrior, the unknown 'Fifth', who, it is said, will be there 'at the end of all things...'\",\n",
       "  3),\n",
       " (\"The brand-new Courtney Series novel and the much-anticipated sequel to the global bestseller WAR CRY\\n\\nTorn apart by war, Saffron Courtney and Gerhard von Meerbach are thousands of miles apart, both struggling for their lives.\\n\\nGerhard - despite his objections to the Nazi regime - is fighting for the Fatherland, hoping to one day have the opportunity to rid Germany of Hitler and his cronies. But as his unit is throw n into the hellish attrition of the Battle of Stalingrad, he knows his chances of survival are dwindling by the day.\\n\\nMeanwhile Saffron - recruited by the Special Operations Executive and sent to occupied Belgium to discover how the Nazis have infiltrated SOE's network ? soon finds herself being hunted by Germany's most ruthless spymaster.\\n\\nConfronted by evil beyond their worst imaginings, the lovers must each make the hardest choice of all: sacrifice themselves or do whatever they can to survive, hoping that one day they will be reunited.\\n\\nCourtney 's War is an epic story of courage, betrayal and undying love that takes the reader to the very heart of a world at war.\",\n",
       "  2)]"
      ]
     },
     "execution_count": 328,
     "metadata": {},
     "output_type": "execute_result"
    }
   ],
   "source": [
    "price_count = Counter(list(data_test['Synopsis']))\n",
    "price_count.most_common(3)"
   ]
  },
  {
   "cell_type": "markdown",
   "id": "3cebb624",
   "metadata": {},
   "source": [
    "#### 9. Check duplicates"
   ]
  },
  {
   "cell_type": "code",
   "execution_count": 329,
   "id": "ce896d62",
   "metadata": {},
   "outputs": [
    {
     "name": "stdout",
     "output_type": "stream",
     "text": [
      "688\n"
     ]
    }
   ],
   "source": [
    "#find number of  duplicate.\n",
    "print(sum(data_train.duplicated(\"Synopsis\")))"
   ]
  },
  {
   "cell_type": "code",
   "execution_count": 330,
   "id": "7d788b1c",
   "metadata": {},
   "outputs": [
    {
     "data": {
      "text/plain": [
       "(5549,)"
      ]
     },
     "execution_count": 330,
     "metadata": {},
     "output_type": "execute_result"
    }
   ],
   "source": [
    "data_train[\"Synopsis\"].drop_duplicates().shape"
   ]
  },
  {
   "cell_type": "code",
   "execution_count": 331,
   "id": "1f69ac44",
   "metadata": {},
   "outputs": [
    {
     "data": {
      "text/plain": [
       "(688, 9)"
      ]
     },
     "execution_count": 331,
     "metadata": {},
     "output_type": "execute_result"
    }
   ],
   "source": [
    "duplicate = data_train.loc[data_train[\"Synopsis\"].duplicated()]\n",
    "duplicate.shape"
   ]
  },
  {
   "cell_type": "code",
   "execution_count": 332,
   "id": "62bcbf64",
   "metadata": {},
   "outputs": [],
   "source": [
    "data_trai = data_train.drop_duplicates(subset=['Synopsis'])"
   ]
  },
  {
   "cell_type": "code",
   "execution_count": 333,
   "id": "868e64d1",
   "metadata": {},
   "outputs": [
    {
     "data": {
      "text/plain": [
       "(5549, 9)"
      ]
     },
     "execution_count": 333,
     "metadata": {},
     "output_type": "execute_result"
    }
   ],
   "source": [
    "data_trai.shape"
   ]
  },
  {
   "cell_type": "code",
   "execution_count": 334,
   "id": "db52042e",
   "metadata": {},
   "outputs": [
    {
     "data": {
      "text/plain": [
       "(1519,)"
      ]
     },
     "execution_count": 334,
     "metadata": {},
     "output_type": "execute_result"
    }
   ],
   "source": [
    "data_test[\"Synopsis\"].drop_duplicates().shape"
   ]
  },
  {
   "cell_type": "code",
   "execution_count": 335,
   "id": "e65ac6a3",
   "metadata": {},
   "outputs": [
    {
     "data": {
      "text/plain": [
       "(41, 8)"
      ]
     },
     "execution_count": 335,
     "metadata": {},
     "output_type": "execute_result"
    }
   ],
   "source": [
    "duplicate = data_test.loc[data_test[\"Synopsis\"].duplicated()]\n",
    "duplicate.shape"
   ]
  },
  {
   "cell_type": "code",
   "execution_count": 336,
   "id": "63131398",
   "metadata": {},
   "outputs": [
    {
     "data": {
      "text/plain": [
       "(1519, 8)"
      ]
     },
     "execution_count": 336,
     "metadata": {},
     "output_type": "execute_result"
    }
   ],
   "source": [
    "data_tes = data_test.drop_duplicates(subset=['Synopsis'])\n",
    "data_tes.shape"
   ]
  },
  {
   "cell_type": "code",
   "execution_count": 337,
   "id": "d0ff3d50",
   "metadata": {},
   "outputs": [],
   "source": [
    "import pickle\n",
    "with open(\"55_apparel_data_train_After_Remove_Duplicates_Values\", \"wb\") as f:\n",
    "    pickle.dump(data_trai,f)"
   ]
  },
  {
   "cell_type": "code",
   "execution_count": 338,
   "id": "a7410ae9",
   "metadata": {},
   "outputs": [],
   "source": [
    "import pickle\n",
    "with open(\"15k_apparel_data_train_After_Remove_Duplicates_Values\", \"wb\") as f:\n",
    "    pickle.dump(data_tes,f)"
   ]
  },
  {
   "cell_type": "code",
   "execution_count": 339,
   "id": "e955632f",
   "metadata": {},
   "outputs": [
    {
     "data": {
      "text/plain": [
       "(5549, 9)"
      ]
     },
     "execution_count": 339,
     "metadata": {},
     "output_type": "execute_result"
    }
   ],
   "source": [
    "#the number of data_train points from 62K to 55K.\n",
    "data_train = pd.read_pickle(r'55_apparel_data_train_After_Remove_Duplicates_Values')\n",
    "data_train.shape"
   ]
  },
  {
   "cell_type": "code",
   "execution_count": 340,
   "id": "073b48fd",
   "metadata": {},
   "outputs": [
    {
     "data": {
      "text/plain": [
       "(1519, 8)"
      ]
     },
     "execution_count": 340,
     "metadata": {},
     "output_type": "execute_result"
    }
   ],
   "source": [
    "data_test = pd.read_pickle(r'15k_apparel_data_train_After_Remove_Duplicates_Values')\n",
    "data_test.shape"
   ]
  },
  {
   "cell_type": "markdown",
   "id": "e74ce32b",
   "metadata": {},
   "source": [
    "# Text pre-processing"
   ]
  },
  {
   "cell_type": "code",
   "execution_count": 341,
   "id": "236a99f6",
   "metadata": {},
   "outputs": [],
   "source": [
    "def decontracted(phrase):\n",
    "    # specific\n",
    "    phrase = re.sub(r\"won't\", \"will not\", phrase)\n",
    "    phrase = re.sub(r\"can\\'t\", \"can not\", phrase)\n",
    "\n",
    "    # general\n",
    "    phrase = re.sub(r\"n\\'t\", \" not\", phrase)\n",
    "    phrase = re.sub(r\"\\'re\", \" are\", phrase)\n",
    "    phrase = re.sub(r\"\\'s\", \" is\", phrase)\n",
    "    phrase = re.sub(r\"\\'d\", \" would\", phrase)\n",
    "    phrase = re.sub(r\"\\'ll\", \" will\", phrase)\n",
    "    phrase = re.sub(r\"\\'t\", \" not\", phrase)\n",
    "    phrase = re.sub(r\"\\'ve\", \" have\", phrase)\n",
    "    phrase = re.sub(r\"\\'m\", \" am\", phrase)\n",
    "    return phrase"
   ]
  },
  {
   "cell_type": "code",
   "execution_count": 342,
   "id": "ac0659a1",
   "metadata": {},
   "outputs": [],
   "source": [
    "stopwords= ['i', 'me', 'my', 'myself', 'we', 'our', 'ours', 'ourselves', 'you', \"you're\", \"you've\",\\\n",
    "            \"you'll\", \"you'd\", 'your', 'yours', 'yourself', 'yourselves', 'he', 'him', 'his', 'himself', \\\n",
    "            'she', \"she's\", 'her', 'hers', 'herself', 'it', \"it's\", 'its', 'itself', 'they', 'them', 'their',\\\n",
    "            'theirs', 'themselves', 'what', 'which', 'who', 'whom', 'this', 'that', \"that'll\", 'these', 'those', \\\n",
    "            'am', 'is', 'are', 'was', 'were', 'be', 'been', 'being', 'have', 'has', 'had', 'having', 'do', 'does', \\\n",
    "            'did', 'doing', 'a', 'an', 'the', 'and', 'but', 'if', 'or', 'because', 'as', 'until', 'while', 'of', \\\n",
    "            'at', 'by', 'for', 'with', 'about', 'against', 'between', 'into', 'through', 'during', 'before', 'after',\\\n",
    "            'above', 'below', 'to', 'from', 'up', 'down', 'in', 'out', 'on', 'off', 'over', 'under', 'again', 'further',\\\n",
    "            'then', 'once', 'here', 'there', 'when', 'where', 'why', 'how', 'all', 'any', 'both', 'each', 'few', 'more',\\\n",
    "            'most', 'other', 'some', 'such', 'only', 'own', 'same', 'so', 'than', 'too', 'very', \\\n",
    "            's', 't', 'can', 'will', 'just', 'don', \"don't\", 'should', \"should've\", 'now', 'd', 'll', 'm', 'o', 're', \\\n",
    "            've', 'y', 'ain', 'aren', \"aren't\", 'couldn', \"couldn't\", 'didn', \"didn't\", 'doesn', \"doesn't\", 'hadn',\\\n",
    "            \"hadn't\", 'hasn', \"hasn't\", 'haven', \"haven't\", 'isn', \"isn't\", 'ma', 'mightn', \"mightn't\", 'mustn',\\\n",
    "            \"mustn't\", 'needn', \"needn't\", 'shan', \"shan't\", 'shouldn', \"shouldn't\", 'wasn', \"wasn't\", 'weren', \"weren't\", \\\n",
    "            'won', \"won't\", 'wouldn', \"wouldn't\"]"
   ]
  },
  {
   "cell_type": "code",
   "execution_count": 343,
   "id": "977858ec",
   "metadata": {},
   "outputs": [],
   "source": [
    "from tqdm import tqdm\n",
    "import re\n",
    "def preprocess_text(text_data):\n",
    "    preprocessed_text = []\n",
    "    # tqdm is for printing the status bar\n",
    "    for sentance in tqdm(text_data):\n",
    "        sent = decontracted(sentance)\n",
    "        sent = sent.replace('\\\\r', ' ')\n",
    "        sent = sent.replace('\\\\n', ' ')          # replace linebreak with \\r\\n\n",
    "        sent = sent.replace('\\\\\"', ' ')            # how to replace some content in mail template before send in C#\n",
    "        sent = re.sub('[^A-Za-z0-9]+', ' ', sent)  # remove anything that is not a letter or number\n",
    "        # https://gist.github.com/sebleier/554280\n",
    "        sent = ' '.join(e for e in sent.split() if e.lower() not in stopwords)  # stop words\n",
    "        preprocessed_text.append(sent.lower().strip())\n",
    "    return preprocessed_text"
   ]
  },
  {
   "cell_type": "code",
   "execution_count": 344,
   "id": "ee28495c",
   "metadata": {},
   "outputs": [
    {
     "name": "stderr",
     "output_type": "stream",
     "text": [
      "100%|██████████| 5549/5549 [00:00<00:00, 24760.83it/s]\n",
      "100%|██████████| 5549/5549 [00:00<00:00, 46513.31it/s]\n",
      "100%|██████████| 5549/5549 [00:00<00:00, 20778.40it/s]\n",
      "100%|██████████| 5549/5549 [00:00<00:00, 27024.02it/s]\n",
      "100%|██████████| 5549/5549 [00:00<00:00, 43190.42it/s]\n",
      "100%|██████████| 5549/5549 [00:02<00:00, 1969.48it/s]\n",
      "100%|██████████| 5549/5549 [00:00<00:00, 40045.96it/s]\n",
      "100%|██████████| 5549/5549 [00:00<00:00, 36631.91it/s]\n"
     ]
    }
   ],
   "source": [
    "data_train[\"Title\"] = preprocess_text(data_train[\"Title\"].values)\n",
    "data_train[\"Author\"] = preprocess_text(data_train[\"Author\"].values)\n",
    "data_train[\"Edition\"] = preprocess_text(data_train[\"Edition\"].values)\n",
    "data_train[\"Reviews\"] = preprocess_text(data_train[\"Reviews\"].values)\n",
    "data_train[\"Ratings\"] = preprocess_text(data_train[\"Ratings\"].values)\n",
    "data_train[\"Synopsis\"] = preprocess_text(data_train[\"Synopsis\"].values)\n",
    "data_train[\"Genre\"] = preprocess_text(data_train[\"Genre\"].values)\n",
    "data_train[\"BookCategory\"] = preprocess_text(data_train[\"BookCategory\"].values)"
   ]
  },
  {
   "cell_type": "code",
   "execution_count": 345,
   "id": "eef5b7a5",
   "metadata": {},
   "outputs": [
    {
     "name": "stderr",
     "output_type": "stream",
     "text": [
      "100%|██████████| 1519/1519 [00:00<00:00, 21722.59it/s]\n",
      "100%|██████████| 1519/1519 [00:00<00:00, 26763.12it/s]\n",
      "100%|██████████| 1519/1519 [00:00<00:00, 24606.72it/s]\n",
      "100%|██████████| 1519/1519 [00:00<00:00, 29866.34it/s]\n",
      "100%|██████████| 1519/1519 [00:00<00:00, 31949.99it/s]\n",
      "100%|██████████| 1519/1519 [00:00<00:00, 2020.49it/s]\n",
      "100%|██████████| 1519/1519 [00:00<00:00, 42647.47it/s]\n",
      "100%|██████████| 1519/1519 [00:00<00:00, 47536.66it/s]\n"
     ]
    }
   ],
   "source": [
    "data_test[\"Title\"] = preprocess_text(data_test[\"Title\"].values)\n",
    "data_test[\"Author\"] = preprocess_text(data_test[\"Author\"].values)\n",
    "data_test[\"Edition\"] = preprocess_text(data_test[\"Edition\"].values)\n",
    "data_test[\"Reviews\"] = preprocess_text(data_test[\"Reviews\"].values)\n",
    "data_test[\"Ratings\"] = preprocess_text(data_test[\"Ratings\"].values)\n",
    "data_test[\"Synopsis\"] = preprocess_text(data_test[\"Synopsis\"].values)\n",
    "data_test[\"Genre\"] = preprocess_text(data_test[\"Genre\"].values)\n",
    "data_test[\"BookCategory\"] = preprocess_text(data_test[\"BookCategory\"].values)"
   ]
  },
  {
   "cell_type": "code",
   "execution_count": 346,
   "id": "4a3aaea3",
   "metadata": {},
   "outputs": [],
   "source": [
    "import pickle\n",
    "with open(\"55_apparel_data_train_After_text_pre_processsing_Values\", \"wb\") as f:\n",
    "    pickle.dump(data_train,f)"
   ]
  },
  {
   "cell_type": "code",
   "execution_count": 347,
   "id": "532f4920",
   "metadata": {},
   "outputs": [],
   "source": [
    "import pickle\n",
    "with open(\"15_apparel_data_test_After_text_pre_processsing_Values\", \"wb\") as f:\n",
    "    pickle.dump(data_test,f)"
   ]
  },
  {
   "cell_type": "code",
   "execution_count": 348,
   "id": "4941b227",
   "metadata": {},
   "outputs": [
    {
     "data": {
      "text/html": [
       "<div>\n",
       "<style scoped>\n",
       "    .dataframe tbody tr th:only-of-type {\n",
       "        vertical-align: middle;\n",
       "    }\n",
       "\n",
       "    .dataframe tbody tr th {\n",
       "        vertical-align: top;\n",
       "    }\n",
       "\n",
       "    .dataframe thead th {\n",
       "        text-align: right;\n",
       "    }\n",
       "</style>\n",
       "<table border=\"1\" class=\"dataframe\">\n",
       "  <thead>\n",
       "    <tr style=\"text-align: right;\">\n",
       "      <th></th>\n",
       "      <th>Title</th>\n",
       "      <th>Author</th>\n",
       "      <th>Edition</th>\n",
       "      <th>Reviews</th>\n",
       "      <th>Ratings</th>\n",
       "      <th>Synopsis</th>\n",
       "      <th>Genre</th>\n",
       "      <th>BookCategory</th>\n",
       "      <th>Price</th>\n",
       "    </tr>\n",
       "  </thead>\n",
       "  <tbody>\n",
       "    <tr>\n",
       "      <th>0</th>\n",
       "      <td>prisoner gold hunters 3</td>\n",
       "      <td>chris kuzneski</td>\n",
       "      <td>paperback 10 mar 2016</td>\n",
       "      <td>4 0 5 stars</td>\n",
       "      <td>8 customer reviews</td>\n",
       "      <td>hunters return third brilliant novel sunday ti...</td>\n",
       "      <td>action adventure books</td>\n",
       "      <td>action adventure</td>\n",
       "      <td>220.0</td>\n",
       "    </tr>\n",
       "  </tbody>\n",
       "</table>\n",
       "</div>"
      ],
      "text/plain": [
       "                     Title          Author                Edition  \\\n",
       "0  prisoner gold hunters 3  chris kuzneski  paperback 10 mar 2016   \n",
       "\n",
       "       Reviews             Ratings  \\\n",
       "0  4 0 5 stars  8 customer reviews   \n",
       "\n",
       "                                            Synopsis                   Genre  \\\n",
       "0  hunters return third brilliant novel sunday ti...  action adventure books   \n",
       "\n",
       "       BookCategory  Price  \n",
       "0  action adventure  220.0  "
      ]
     },
     "execution_count": 348,
     "metadata": {},
     "output_type": "execute_result"
    }
   ],
   "source": [
    "data_train = pd.read_pickle(r'55_apparel_data_train_After_text_pre_processsing_Values')\n",
    "data_train.head(1)"
   ]
  },
  {
   "cell_type": "code",
   "execution_count": 349,
   "id": "a59420d6",
   "metadata": {},
   "outputs": [
    {
     "data": {
      "text/html": [
       "<div>\n",
       "<style scoped>\n",
       "    .dataframe tbody tr th:only-of-type {\n",
       "        vertical-align: middle;\n",
       "    }\n",
       "\n",
       "    .dataframe tbody tr th {\n",
       "        vertical-align: top;\n",
       "    }\n",
       "\n",
       "    .dataframe thead th {\n",
       "        text-align: right;\n",
       "    }\n",
       "</style>\n",
       "<table border=\"1\" class=\"dataframe\">\n",
       "  <thead>\n",
       "    <tr style=\"text-align: right;\">\n",
       "      <th></th>\n",
       "      <th>Title</th>\n",
       "      <th>Author</th>\n",
       "      <th>Edition</th>\n",
       "      <th>Reviews</th>\n",
       "      <th>Ratings</th>\n",
       "      <th>Synopsis</th>\n",
       "      <th>Genre</th>\n",
       "      <th>BookCategory</th>\n",
       "    </tr>\n",
       "  </thead>\n",
       "  <tbody>\n",
       "    <tr>\n",
       "      <th>0</th>\n",
       "      <td>complete sherlock holmes 2 boxes sets</td>\n",
       "      <td>sir arthur conan doyle</td>\n",
       "      <td>mass market paperback 1 oct 1986</td>\n",
       "      <td>4 4 5 stars</td>\n",
       "      <td>960 customer reviews</td>\n",
       "      <td>collection entire body work sherlock holmes se...</td>\n",
       "      <td>short stories books</td>\n",
       "      <td>crime thriller mystery</td>\n",
       "    </tr>\n",
       "  </tbody>\n",
       "</table>\n",
       "</div>"
      ],
      "text/plain": [
       "                                   Title                  Author  \\\n",
       "0  complete sherlock holmes 2 boxes sets  sir arthur conan doyle   \n",
       "\n",
       "                            Edition      Reviews               Ratings  \\\n",
       "0  mass market paperback 1 oct 1986  4 4 5 stars  960 customer reviews   \n",
       "\n",
       "                                            Synopsis                Genre  \\\n",
       "0  collection entire body work sherlock holmes se...  short stories books   \n",
       "\n",
       "             BookCategory  \n",
       "0  crime thriller mystery  "
      ]
     },
     "execution_count": 349,
     "metadata": {},
     "output_type": "execute_result"
    }
   ],
   "source": [
    "data_test = pd.read_pickle(r'15_apparel_data_test_After_text_pre_processsing_Values')\n",
    "data_test.head(1)"
   ]
  },
  {
   "cell_type": "markdown",
   "id": "0960c4c3",
   "metadata": {},
   "source": [
    "# Splitting data into Train and cross validation or test"
   ]
  },
  {
   "cell_type": "code",
   "execution_count": 350,
   "id": "70baeda6",
   "metadata": {},
   "outputs": [],
   "source": [
    "X = data_train.drop([\"Price\"], axis = 1)\n",
    "y = data_train[\"Price\"].values\n",
    "X_test = data_test"
   ]
  },
  {
   "cell_type": "code",
   "execution_count": 351,
   "id": "a0e5afdf",
   "metadata": {},
   "outputs": [],
   "source": [
    "from sklearn.model_selection import train_test_split"
   ]
  },
  {
   "cell_type": "code",
   "execution_count": 352,
   "id": "35a3fc23",
   "metadata": {},
   "outputs": [],
   "source": [
    "X_train, X_cv, y_train, y_cv = train_test_split(X, y, test_size = 0.25)"
   ]
  },
  {
   "cell_type": "code",
   "execution_count": 353,
   "id": "d95f7cb5",
   "metadata": {},
   "outputs": [
    {
     "name": "stdout",
     "output_type": "stream",
     "text": [
      "(4161, 8) (4161,)\n",
      "(1388, 8) (1388,)\n",
      "(1519, 8)\n"
     ]
    }
   ],
   "source": [
    "print(X_train.shape, y_train.shape)\n",
    "print(X_cv.shape, y_cv.shape)\n",
    "print(X_test.shape)"
   ]
  },
  {
   "cell_type": "markdown",
   "id": "78e8d449",
   "metadata": {},
   "source": [
    "## encoding categorical features: Title"
   ]
  },
  {
   "cell_type": "code",
   "execution_count": 354,
   "id": "e6ef53aa",
   "metadata": {},
   "outputs": [
    {
     "name": "stdout",
     "output_type": "stream",
     "text": [
      " after encoding in bow the size of :\n",
      " train feature -- (4161, 6381) (4161,)\n",
      "cv feature -- (1388, 6381) (1388,)\n",
      "test feature -- (1519, 6381)\n"
     ]
    }
   ],
   "source": [
    "from sklearn.feature_extraction.text import CountVectorizer\n",
    "vectorizer = CountVectorizer()\n",
    "vectorizer.fit(X_train['Title'].values)\n",
    "essay_feature_bow=vectorizer.get_feature_names()\n",
    "X_train_Title_bow=vectorizer.transform(X_train['Title'].values)\n",
    "X_cv_Title_bow=vectorizer.transform(X_cv['Title'].values)\n",
    "X_test_Title_bow=vectorizer.transform(X_test['Title'].values)\n",
    "\n",
    "print(\" after encoding in bow the size of :\")\n",
    "print(\" train feature --\",X_train_Title_bow.shape,y_train.shape)\n",
    "print(\"cv feature --\",X_cv_Title_bow.shape,y_cv.shape)\n",
    "print(\"test feature --\",X_test_Title_bow.shape)\n",
    "#print('the features are : ',teacher_prefix_feature_bow)"
   ]
  },
  {
   "cell_type": "markdown",
   "id": "c80b492d",
   "metadata": {},
   "source": [
    "## encoding categorical features: Author"
   ]
  },
  {
   "cell_type": "code",
   "execution_count": 355,
   "id": "0074004f",
   "metadata": {},
   "outputs": [
    {
     "name": "stdout",
     "output_type": "stream",
     "text": [
      " after encoding in bow the size of :\n",
      " train feature -- (4161, 3984) (4161,)\n",
      "cv feature -- (1388, 3984) (1388,)\n",
      "test feature -- (1519, 3984)\n"
     ]
    }
   ],
   "source": [
    "vectorizer = CountVectorizer()\n",
    "vectorizer.fit(X_train['Author'].values)\n",
    "essay_feature_bow=vectorizer.get_feature_names()\n",
    "X_train_Author_bow=vectorizer.transform(X_train['Author'].values)\n",
    "X_cv_Author_bow=vectorizer.transform(X_cv['Author'].values)\n",
    "X_test_Author_bow=vectorizer.transform(X_test['Author'].values)\n",
    "\n",
    "print(\" after encoding in bow the size of :\")\n",
    "print(\" train feature --\",X_train_Author_bow.shape,y_train.shape)\n",
    "print(\"cv feature --\",X_cv_Author_bow.shape,y_cv.shape)\n",
    "print(\"test feature --\",X_test_Author_bow.shape)\n",
    "#print('the features are : ',teacher_prefix_feature_bow)"
   ]
  },
  {
   "cell_type": "markdown",
   "id": "fb7c9298",
   "metadata": {},
   "source": [
    "## encoding categorical features: Edition"
   ]
  },
  {
   "cell_type": "code",
   "execution_count": 356,
   "id": "40ca9e47",
   "metadata": {},
   "outputs": [
    {
     "name": "stdout",
     "output_type": "stream",
     "text": [
      " after encoding in bow the size of :\n",
      " train feature -- (4161, 134) (4161,)\n",
      "cv feature -- (1388, 134) (1388,)\n",
      "test feature -- (1519, 134)\n"
     ]
    }
   ],
   "source": [
    "vectorizer = CountVectorizer()\n",
    "vectorizer.fit(X_train['Edition'].values)\n",
    "essay_feature_bow=vectorizer.get_feature_names()\n",
    "X_train_Edition_bow=vectorizer.transform(X_train['Edition'].values)\n",
    "X_cv_Edition_bow=vectorizer.transform(X_cv['Edition'].values)\n",
    "X_test_Edition_bow=vectorizer.transform(X_test['Edition'].values)\n",
    "\n",
    "print(\" after encoding in bow the size of :\")\n",
    "print(\" train feature --\",X_train_Edition_bow.shape,y_train.shape)\n",
    "print(\"cv feature --\",X_cv_Edition_bow.shape,y_cv.shape)\n",
    "print(\"test feature --\",X_test_Edition_bow.shape)\n",
    "#print('the features are : ',teacher_prefix_feature_bow)"
   ]
  },
  {
   "cell_type": "markdown",
   "id": "b9d9827f",
   "metadata": {},
   "source": [
    "## encoding categorical features: Reviews"
   ]
  },
  {
   "cell_type": "code",
   "execution_count": 357,
   "id": "06883ac1",
   "metadata": {},
   "outputs": [
    {
     "name": "stdout",
     "output_type": "stream",
     "text": [
      " after encoding in bow the size of :\n",
      " train feature -- (4161, 1) (4161,)\n",
      "cv feature -- (1388, 1) (1388,)\n",
      "test feature -- (1519, 1)\n"
     ]
    }
   ],
   "source": [
    "vectorizer = CountVectorizer()\n",
    "vectorizer.fit(X_train['Reviews'].values)\n",
    "essay_feature_bow=vectorizer.get_feature_names()\n",
    "X_train_Reviews_bow=vectorizer.transform(X_train['Reviews'].values)\n",
    "X_cv_Reviews_bow=vectorizer.transform(X_cv['Reviews'].values)\n",
    "X_test_Reviews_bow=vectorizer.transform(X_test['Reviews'].values)\n",
    "\n",
    "print(\" after encoding in bow the size of :\")\n",
    "print(\" train feature --\",X_train_Reviews_bow.shape,y_train.shape)\n",
    "print(\"cv feature --\",X_cv_Reviews_bow.shape,y_cv.shape)\n",
    "print(\"test feature --\",X_test_Reviews_bow.shape)\n",
    "#print('the features are : ',teacher_prefix_feature_bow)"
   ]
  },
  {
   "cell_type": "markdown",
   "id": "6f9c3e6f",
   "metadata": {},
   "source": [
    "## encoding categorical features: Ratings"
   ]
  },
  {
   "cell_type": "code",
   "execution_count": 358,
   "id": "be59ab87",
   "metadata": {},
   "outputs": [
    {
     "name": "stdout",
     "output_type": "stream",
     "text": [
      " after encoding in bow the size of :\n",
      " train feature -- (4161, 264) (4161,)\n",
      "cv feature -- (1388, 264) (1388,)\n",
      "test feature -- (1519, 264)\n"
     ]
    }
   ],
   "source": [
    "vectorizer = CountVectorizer()\n",
    "vectorizer.fit(X_train['Ratings'].values)\n",
    "essay_feature_bow=vectorizer.get_feature_names()\n",
    "X_train_Ratings_bow=vectorizer.transform(X_train['Ratings'].values)\n",
    "X_cv_Ratings_bow=vectorizer.transform(X_cv['Ratings'].values)\n",
    "X_test_Ratings_bow=vectorizer.transform(X_test['Ratings'].values)\n",
    "\n",
    "print(\" after encoding in bow the size of :\")\n",
    "print(\" train feature --\",X_train_Ratings_bow.shape,y_train.shape)\n",
    "print(\"cv feature --\",X_cv_Ratings_bow.shape,y_cv.shape)\n",
    "print(\"test feature --\",X_test_Ratings_bow.shape)\n",
    "#print('the features are : ',teacher_prefix_feature_bow)"
   ]
  },
  {
   "cell_type": "markdown",
   "id": "fd5fdc0c",
   "metadata": {},
   "source": [
    "## encoding categorical features: Synopsis"
   ]
  },
  {
   "cell_type": "code",
   "execution_count": 359,
   "id": "fb5bb2ee",
   "metadata": {},
   "outputs": [
    {
     "name": "stdout",
     "output_type": "stream",
     "text": [
      " after encoding in bow the size of :\n",
      " train feature -- (4161, 35192) (4161,)\n",
      "cv feature -- (1388, 35192) (1388,)\n",
      "test feature -- (1519, 35192)\n"
     ]
    }
   ],
   "source": [
    "vectorizer = CountVectorizer()\n",
    "vectorizer.fit(X_train['Synopsis'].values)\n",
    "essay_feature_bow=vectorizer.get_feature_names()\n",
    "X_train_Synopsis_bow=vectorizer.transform(X_train['Synopsis'].values)\n",
    "X_cv_Synopsis_bow=vectorizer.transform(X_cv['Synopsis'].values)\n",
    "X_test_Synopsis_bow=vectorizer.transform(X_test['Synopsis'].values)\n",
    "\n",
    "print(\" after encoding in bow the size of :\")\n",
    "print(\" train feature --\",X_train_Synopsis_bow.shape,y_train.shape)\n",
    "print(\"cv feature --\",X_cv_Synopsis_bow.shape,y_cv.shape)\n",
    "print(\"test feature --\",X_test_Synopsis_bow.shape)\n",
    "#print('the features are : ',teacher_prefix_feature_bow)"
   ]
  },
  {
   "cell_type": "markdown",
   "id": "fd727cb8",
   "metadata": {},
   "source": [
    "## encoding categorical features: Genre"
   ]
  },
  {
   "cell_type": "code",
   "execution_count": 360,
   "id": "5a3f7e2e",
   "metadata": {},
   "outputs": [
    {
     "name": "stdout",
     "output_type": "stream",
     "text": [
      " after encoding in bow the size of :\n",
      " train feature -- (4161, 380) (4161,)\n",
      "cv feature -- (1388, 380) (1388,)\n",
      "test feature -- (1519, 380)\n"
     ]
    }
   ],
   "source": [
    "vectorizer = CountVectorizer()\n",
    "vectorizer.fit(X_train['Genre'].values)\n",
    "essay_feature_bow=vectorizer.get_feature_names()\n",
    "X_train_Genre_bow=vectorizer.transform(X_train['Genre'].values)\n",
    "X_cv_Genre_bow=vectorizer.transform(X_cv['Genre'].values)\n",
    "X_test_Genre_bow=vectorizer.transform(X_test['Genre'].values)\n",
    "\n",
    "print(\" after encoding in bow the size of :\")\n",
    "print(\" train feature --\",X_train_Genre_bow.shape,y_train.shape)\n",
    "print(\"cv feature --\",X_cv_Genre_bow.shape,y_cv.shape)\n",
    "print(\"test feature --\",X_test_Genre_bow.shape)\n",
    "#print('the features are : ',teacher_prefix_feature_bow)"
   ]
  },
  {
   "cell_type": "markdown",
   "id": "f932e7ae",
   "metadata": {},
   "source": [
    "## encoding categorical features: BookCategory"
   ]
  },
  {
   "cell_type": "code",
   "execution_count": 361,
   "id": "daea8e13",
   "metadata": {},
   "outputs": [
    {
     "name": "stdout",
     "output_type": "stream",
     "text": [
      " after encoding in bow the size of :\n",
      " train feature -- (4161, 25) (4161,)\n",
      "cv feature -- (1388, 25) (1388,)\n",
      "test feature -- (1519, 25)\n"
     ]
    }
   ],
   "source": [
    "vectorizer = CountVectorizer()\n",
    "vectorizer.fit(X_train['BookCategory'].values)\n",
    "essay_feature_bow=vectorizer.get_feature_names()\n",
    "X_train_BookCategory_bow=vectorizer.transform(X_train['BookCategory'].values)\n",
    "X_cv_BookCategory_bow=vectorizer.transform(X_cv['BookCategory'].values)\n",
    "X_test_BookCategory_bow=vectorizer.transform(X_test['BookCategory'].values)\n",
    "\n",
    "print(\" after encoding in bow the size of :\")\n",
    "print(\" train feature --\",X_train_BookCategory_bow.shape,y_train.shape)\n",
    "print(\"cv feature --\",X_cv_BookCategory_bow.shape,y_cv.shape)\n",
    "print(\"test feature --\",X_test_BookCategory_bow.shape)\n",
    "#print('the features are : ',teacher_prefix_feature_bow)"
   ]
  },
  {
   "cell_type": "markdown",
   "id": "c442ee16",
   "metadata": {},
   "source": [
    "## Concatinating all the features"
   ]
  },
  {
   "cell_type": "code",
   "execution_count": 362,
   "id": "66ad2794",
   "metadata": {},
   "outputs": [
    {
     "name": "stdout",
     "output_type": "stream",
     "text": [
      "Final Data matrix\n",
      "(4161, 46361) (4161,)\n",
      "(1388, 46361) (1388,)\n",
      "(1519, 46361)\n"
     ]
    }
   ],
   "source": [
    "from scipy.sparse import hstack\n",
    "X_train = hstack((X_train_Title_bow, X_train_Author_bow, X_train_Edition_bow, X_train_Reviews_bow, X_train_Ratings_bow, X_train_Synopsis_bow, X_train_Genre_bow, X_train_BookCategory_bow)).tocsr()\n",
    "X_cv = hstack((X_cv_Title_bow, X_cv_Author_bow, X_cv_Edition_bow, X_cv_Reviews_bow, X_cv_Ratings_bow, X_cv_Synopsis_bow, X_cv_Genre_bow, X_cv_BookCategory_bow)).tocsr()\n",
    "X_test = hstack((X_test_Title_bow, X_test_Author_bow, X_test_Edition_bow, X_test_Reviews_bow, X_test_Ratings_bow, X_test_Synopsis_bow, X_test_Genre_bow, X_test_BookCategory_bow)).tocsr()\n",
    "\n",
    "print(\"Final Data matrix\")\n",
    "print(X_train.shape, y_train.shape)\n",
    "print(X_cv.shape, y_cv.shape)\n",
    "print(X_test.shape)"
   ]
  },
  {
   "cell_type": "markdown",
   "id": "70e39132",
   "metadata": {},
   "source": [
    "# LinearRegression"
   ]
  },
  {
   "cell_type": "code",
   "execution_count": 364,
   "id": "72c228b0",
   "metadata": {},
   "outputs": [
    {
     "data": {
      "text/plain": [
       "LinearRegression()"
      ]
     },
     "execution_count": 364,
     "metadata": {},
     "output_type": "execute_result"
    }
   ],
   "source": [
    "from sklearn.linear_model import LinearRegression\n",
    "lm = LinearRegression()\n",
    "lm.fit(X_train, y_train)"
   ]
  },
  {
   "cell_type": "code",
   "execution_count": 366,
   "id": "1ef08aa8",
   "metadata": {},
   "outputs": [],
   "source": [
    "#predict on the test and train data\n",
    "y_cv_pred = lm.predict(X_cv)\n",
    "y_train_pred = lm.predict(X_train)"
   ]
  },
  {
   "cell_type": "markdown",
   "id": "785e50c4",
   "metadata": {},
   "source": [
    "### Regression metrics for model performance\n",
    "Root-Mean-Square Error (RMSE)\n",
    "Lower values of RMSE indicate better fit."
   ]
  },
  {
   "cell_type": "markdown",
   "id": "5dac3558",
   "metadata": {},
   "source": [
    "### Root-Mean-Square Error (RMSE) "
   ]
  },
  {
   "cell_type": "code",
   "execution_count": 369,
   "id": "bff16431",
   "metadata": {},
   "outputs": [
    {
     "name": "stdout",
     "output_type": "stream",
     "text": [
      "RMSE value: 736.7016\n"
     ]
    }
   ],
   "source": [
    "# Calculate and print Root Mean Square Error(RMSE)\n",
    "from sklearn.metrics import mean_squared_error\n",
    "import numpy as np\n",
    "mse = mean_squared_error(y_cv, y_cv_pred)\n",
    "rmse = np.sqrt(mse)\n",
    "print(\"RMSE value: {:.4f}\".format(rmse))"
   ]
  },
  {
   "cell_type": "markdown",
   "id": "607657fc",
   "metadata": {},
   "source": [
    "### Mean_Squared_Error(MSE)"
   ]
  },
  {
   "cell_type": "code",
   "execution_count": 370,
   "id": "3079c34b",
   "metadata": {},
   "outputs": [
    {
     "data": {
      "text/plain": [
       "542729.2481791058"
      ]
     },
     "execution_count": 370,
     "metadata": {},
     "output_type": "execute_result"
    }
   ],
   "source": [
    "mean_squared_error(y_cv, y_cv_pred)"
   ]
  },
  {
   "cell_type": "markdown",
   "id": "827d1ee0",
   "metadata": {},
   "source": [
    "### Mean_Absolute_Percentage_Error(MAPE)"
   ]
  },
  {
   "cell_type": "code",
   "execution_count": 371,
   "id": "48058cf2",
   "metadata": {},
   "outputs": [
    {
     "data": {
      "text/plain": [
       "1.3757876957330817"
      ]
     },
     "execution_count": 371,
     "metadata": {},
     "output_type": "execute_result"
    }
   ],
   "source": [
    "from sklearn.metrics import mean_absolute_percentage_error\n",
    "mean_absolute_percentage_error(y_cv, y_cv_pred)"
   ]
  },
  {
   "cell_type": "markdown",
   "id": "279354e2",
   "metadata": {},
   "source": [
    "### R^2 Square"
   ]
  },
  {
   "cell_type": "code",
   "execution_count": 374,
   "id": "907f3f05",
   "metadata": {},
   "outputs": [
    {
     "name": "stdout",
     "output_type": "stream",
     "text": [
      "R2 Score value: -0.3814\n"
     ]
    }
   ],
   "source": [
    "from sklearn.metrics import r2_score\n",
    "print (\"R2 Score value: {:.4f}\".format(r2_score(y_cv, y_cv_pred)))"
   ]
  },
  {
   "cell_type": "code",
   "execution_count": 375,
   "id": "a9323739",
   "metadata": {},
   "outputs": [
    {
     "name": "stdout",
     "output_type": "stream",
     "text": [
      "R2 Score value: 1.0000\n"
     ]
    }
   ],
   "source": [
    "print (\"R2 Score value: {:.4f}\".format(r2_score(y_train, y_train_pred)))"
   ]
  },
  {
   "cell_type": "code",
   "execution_count": null,
   "id": "6907b00f",
   "metadata": {},
   "outputs": [],
   "source": []
  },
  {
   "cell_type": "code",
   "execution_count": null,
   "id": "a3b48d0c",
   "metadata": {},
   "outputs": [],
   "source": []
  },
  {
   "cell_type": "code",
   "execution_count": null,
   "id": "f33b7c4a",
   "metadata": {},
   "outputs": [],
   "source": []
  },
  {
   "cell_type": "code",
   "execution_count": null,
   "id": "ee742eaa",
   "metadata": {},
   "outputs": [],
   "source": []
  },
  {
   "cell_type": "code",
   "execution_count": null,
   "id": "c51527af",
   "metadata": {},
   "outputs": [],
   "source": []
  },
  {
   "cell_type": "code",
   "execution_count": null,
   "id": "bf8730a0",
   "metadata": {},
   "outputs": [],
   "source": []
  }
 ],
 "metadata": {
  "kernelspec": {
   "display_name": "Python 3",
   "language": "python",
   "name": "python3"
  },
  "language_info": {
   "codemirror_mode": {
    "name": "ipython",
    "version": 3
   },
   "file_extension": ".py",
   "mimetype": "text/x-python",
   "name": "python",
   "nbconvert_exporter": "python",
   "pygments_lexer": "ipython3",
   "version": "3.8.8"
  }
 },
 "nbformat": 4,
 "nbformat_minor": 5
}
